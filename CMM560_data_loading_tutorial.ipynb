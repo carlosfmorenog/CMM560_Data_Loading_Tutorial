{
  "cells": [
    {
      "cell_type": "markdown",
      "metadata": {
        "id": "view-in-github",
        "colab_type": "text"
      },
      "source": [
        "<a href=\"https://colab.research.google.com/github/carlosfmorenog/CMM560_Data_Loading_Tutorial/blob/main/CMM560_data_loading_tutorial.ipynb\" target=\"_parent\"><img src=\"https://colab.research.google.com/assets/colab-badge.svg\" alt=\"Open In Colab\"/></a>"
      ]
    },
    {
      "cell_type": "markdown",
      "metadata": {
        "id": "GAYRDSB0VgIF"
      },
      "source": [
        "Remember to store the \"data\" folder in the same directory/path as this notebook"
      ]
    },
    {
      "cell_type": "code",
      "source": [
        "from google.colab import drive\n",
        "drive.mount('/content/drive')"
      ],
      "metadata": {
        "colab": {
          "base_uri": "https://localhost:8080/"
        },
        "id": "Yug32sBlVmn5",
        "outputId": "28038ca8-fa48-451d-c15a-9120badeb2c4"
      },
      "execution_count": null,
      "outputs": [
        {
          "output_type": "stream",
          "name": "stdout",
          "text": [
            "Mounted at /content/drive\n"
          ]
        }
      ]
    },
    {
      "cell_type": "markdown",
      "metadata": {
        "id": "3Cu_nfHxVgIJ"
      },
      "source": [
        "# Version 1: Converting your image repository into numpy arrays"
      ]
    },
    {
      "cell_type": "code",
      "execution_count": null,
      "metadata": {
        "id": "iTKiSVy4VgIL",
        "outputId": "032d960d-5454-4610-9e15-63fe090df0e5"
      },
      "outputs": [
        {
          "name": "stdout",
          "output_type": "stream",
          "text": [
            "[[ 59  65  66 ... 127 132 111]\n",
            " [109 119 112 ...  12  14  34]\n",
            " [190 190 191 ...  38  37  38]\n",
            " [101 101 101 ... 178 176 182]\n",
            " [242 241 241 ...  38  41  43]\n",
            " [185 190 197 ... 146 146 146]]\n",
            "['mask', 'mask', 'mask', 'mask', 'nomask', 'nomask']\n"
          ]
        }
      ],
      "source": [
        "import os\n",
        "import numpy as np\n",
        "import cv2\n",
        "resize_width = 100\n",
        "resize_height = 100\n",
        "path = 'data'\n",
        "images = [] # List to append the images as 2D numpy arrays.\n",
        "target = [] # List to append the target\n",
        "originalrepo = [] # Create a repo for flattened pixels\n",
        "\n",
        "for root, dirs, files in os.walk(path):\n",
        "     for file in files:\n",
        "        with open(os.path.join(root, file), \"r\") as auto:\n",
        "            try:\n",
        "                img = cv2.imread(root+'/'+file, 0)\n",
        "                img = cv2.resize(img, (resize_width, resize_height)) \n",
        "                images.append(img)\n",
        "                # Append the flattened image to the pixel repo\n",
        "                originalrepo.append(img.flatten())\n",
        "                # Append the folder where the image is to the target list\n",
        "                target.append(root.replace(path,'').replace('\\\\','').replace('/',''))\n",
        "            except Exception as e:\n",
        "                print(\"Invalid file \"+file+\" skipped.\")\n",
        "# Convert the repo list into numpy array\n",
        "originalrepo = np.array(originalrepo) \n",
        "print(originalrepo)\n",
        "print(target)"
      ]
    },
    {
      "cell_type": "markdown",
      "metadata": {
        "id": "4us34AkWVgIP"
      },
      "source": [
        "# Version 2: Converting your image repository into Pandas data frames"
      ]
    },
    {
      "cell_type": "code",
      "execution_count": null,
      "metadata": {
        "id": "WaE14M1zVgIR",
        "outputId": "5c57abe2-bf57-4582-fed3-483a2ecf372c"
      },
      "outputs": [
        {
          "name": "stdout",
          "output_type": "stream",
          "text": [
            "['mask', 'mask', 'mask', 'mask', 'nomask', 'nomask']\n"
          ]
        },
        {
          "data": {
            "text/html": [
              "<div>\n",
              "<style scoped>\n",
              "    .dataframe tbody tr th:only-of-type {\n",
              "        vertical-align: middle;\n",
              "    }\n",
              "\n",
              "    .dataframe tbody tr th {\n",
              "        vertical-align: top;\n",
              "    }\n",
              "\n",
              "    .dataframe thead th {\n",
              "        text-align: right;\n",
              "    }\n",
              "</style>\n",
              "<table border=\"1\" class=\"dataframe\">\n",
              "  <thead>\n",
              "    <tr style=\"text-align: right;\">\n",
              "      <th></th>\n",
              "      <th>0</th>\n",
              "      <th>1</th>\n",
              "      <th>2</th>\n",
              "      <th>3</th>\n",
              "      <th>4</th>\n",
              "      <th>5</th>\n",
              "      <th>6</th>\n",
              "      <th>7</th>\n",
              "      <th>8</th>\n",
              "      <th>9</th>\n",
              "      <th>...</th>\n",
              "      <th>616</th>\n",
              "      <th>617</th>\n",
              "      <th>618</th>\n",
              "      <th>619</th>\n",
              "      <th>620</th>\n",
              "      <th>621</th>\n",
              "      <th>622</th>\n",
              "      <th>623</th>\n",
              "      <th>624</th>\n",
              "      <th>class</th>\n",
              "    </tr>\n",
              "  </thead>\n",
              "  <tbody>\n",
              "    <tr>\n",
              "      <th>0</th>\n",
              "      <td>63</td>\n",
              "      <td>83</td>\n",
              "      <td>49</td>\n",
              "      <td>108</td>\n",
              "      <td>188</td>\n",
              "      <td>11</td>\n",
              "      <td>28</td>\n",
              "      <td>109</td>\n",
              "      <td>49</td>\n",
              "      <td>126</td>\n",
              "      <td>...</td>\n",
              "      <td>120</td>\n",
              "      <td>101</td>\n",
              "      <td>133</td>\n",
              "      <td>179</td>\n",
              "      <td>178</td>\n",
              "      <td>136</td>\n",
              "      <td>127</td>\n",
              "      <td>117</td>\n",
              "      <td>128</td>\n",
              "      <td>mask</td>\n",
              "    </tr>\n",
              "    <tr>\n",
              "      <th>1</th>\n",
              "      <td>137</td>\n",
              "      <td>40</td>\n",
              "      <td>80</td>\n",
              "      <td>92</td>\n",
              "      <td>161</td>\n",
              "      <td>123</td>\n",
              "      <td>135</td>\n",
              "      <td>128</td>\n",
              "      <td>194</td>\n",
              "      <td>72</td>\n",
              "      <td>...</td>\n",
              "      <td>19</td>\n",
              "      <td>19</td>\n",
              "      <td>118</td>\n",
              "      <td>15</td>\n",
              "      <td>18</td>\n",
              "      <td>15</td>\n",
              "      <td>30</td>\n",
              "      <td>24</td>\n",
              "      <td>12</td>\n",
              "      <td>mask</td>\n",
              "    </tr>\n",
              "    <tr>\n",
              "      <th>2</th>\n",
              "      <td>190</td>\n",
              "      <td>192</td>\n",
              "      <td>190</td>\n",
              "      <td>192</td>\n",
              "      <td>192</td>\n",
              "      <td>190</td>\n",
              "      <td>193</td>\n",
              "      <td>192</td>\n",
              "      <td>198</td>\n",
              "      <td>146</td>\n",
              "      <td>...</td>\n",
              "      <td>25</td>\n",
              "      <td>39</td>\n",
              "      <td>71</td>\n",
              "      <td>79</td>\n",
              "      <td>67</td>\n",
              "      <td>52</td>\n",
              "      <td>45</td>\n",
              "      <td>44</td>\n",
              "      <td>41</td>\n",
              "      <td>mask</td>\n",
              "    </tr>\n",
              "    <tr>\n",
              "      <th>3</th>\n",
              "      <td>97</td>\n",
              "      <td>95</td>\n",
              "      <td>92</td>\n",
              "      <td>160</td>\n",
              "      <td>153</td>\n",
              "      <td>78</td>\n",
              "      <td>165</td>\n",
              "      <td>198</td>\n",
              "      <td>118</td>\n",
              "      <td>96</td>\n",
              "      <td>...</td>\n",
              "      <td>190</td>\n",
              "      <td>191</td>\n",
              "      <td>187</td>\n",
              "      <td>178</td>\n",
              "      <td>176</td>\n",
              "      <td>181</td>\n",
              "      <td>185</td>\n",
              "      <td>181</td>\n",
              "      <td>182</td>\n",
              "      <td>mask</td>\n",
              "    </tr>\n",
              "    <tr>\n",
              "      <th>4</th>\n",
              "      <td>243</td>\n",
              "      <td>240</td>\n",
              "      <td>240</td>\n",
              "      <td>239</td>\n",
              "      <td>238</td>\n",
              "      <td>236</td>\n",
              "      <td>236</td>\n",
              "      <td>237</td>\n",
              "      <td>237</td>\n",
              "      <td>235</td>\n",
              "      <td>...</td>\n",
              "      <td>138</td>\n",
              "      <td>122</td>\n",
              "      <td>66</td>\n",
              "      <td>92</td>\n",
              "      <td>50</td>\n",
              "      <td>18</td>\n",
              "      <td>41</td>\n",
              "      <td>42</td>\n",
              "      <td>42</td>\n",
              "      <td>nomask</td>\n",
              "    </tr>\n",
              "    <tr>\n",
              "      <th>5</th>\n",
              "      <td>206</td>\n",
              "      <td>155</td>\n",
              "      <td>149</td>\n",
              "      <td>153</td>\n",
              "      <td>153</td>\n",
              "      <td>153</td>\n",
              "      <td>151</td>\n",
              "      <td>153</td>\n",
              "      <td>152</td>\n",
              "      <td>153</td>\n",
              "      <td>...</td>\n",
              "      <td>147</td>\n",
              "      <td>153</td>\n",
              "      <td>142</td>\n",
              "      <td>149</td>\n",
              "      <td>148</td>\n",
              "      <td>146</td>\n",
              "      <td>146</td>\n",
              "      <td>146</td>\n",
              "      <td>146</td>\n",
              "      <td>nomask</td>\n",
              "    </tr>\n",
              "  </tbody>\n",
              "</table>\n",
              "<p>6 rows × 626 columns</p>\n",
              "</div>"
            ],
            "text/plain": [
              "     0    1    2    3    4    5    6    7    8    9  ...  616  617  618  619  \\\n",
              "0   63   83   49  108  188   11   28  109   49  126  ...  120  101  133  179   \n",
              "1  137   40   80   92  161  123  135  128  194   72  ...   19   19  118   15   \n",
              "2  190  192  190  192  192  190  193  192  198  146  ...   25   39   71   79   \n",
              "3   97   95   92  160  153   78  165  198  118   96  ...  190  191  187  178   \n",
              "4  243  240  240  239  238  236  236  237  237  235  ...  138  122   66   92   \n",
              "5  206  155  149  153  153  153  151  153  152  153  ...  147  153  142  149   \n",
              "\n",
              "   620  621  622  623  624   class  \n",
              "0  178  136  127  117  128    mask  \n",
              "1   18   15   30   24   12    mask  \n",
              "2   67   52   45   44   41    mask  \n",
              "3  176  181  185  181  182    mask  \n",
              "4   50   18   41   42   42  nomask  \n",
              "5  148  146  146  146  146  nomask  \n",
              "\n",
              "[6 rows x 626 columns]"
            ]
          },
          "execution_count": 2,
          "metadata": {},
          "output_type": "execute_result"
        }
      ],
      "source": [
        "import os\n",
        "import numpy as np\n",
        "import cv2\n",
        "from pandas import DataFrame\n",
        "\n",
        "resize_width = 25\n",
        "resize_height = 25\n",
        "path = 'data'\n",
        "images = [] # List to append the images as 2D numpy arrays\n",
        "target =  []\n",
        "originalrepo = [] # Create a repo for flattened pixels\n",
        "\n",
        "for root, dirs, files in os.walk(path):\n",
        "     for file in files:\n",
        "        with open(os.path.join(root, file), \"r\") as auto:\n",
        "            try:\n",
        "                img = cv2.imread(root+'/'+file, 0)\n",
        "                img = cv2.resize(img, (resize_width, resize_height)) \n",
        "                images.append(img)\n",
        "                # Append the flattened image to the pixel repo\n",
        "                originalrepo.append(img.flatten())\n",
        "                # Append the folder where the image is to the target list\n",
        "                target.append(root.replace(path,'').replace('\\\\','').replace('/',''))\n",
        "            except Exception as e:\n",
        "                print(\"Invalid file \"+file+\" skipped.\")\n",
        "# Convert the repo list into pandas dataframe\n",
        "originalrepowtarget = DataFrame(originalrepo) \n",
        "originalrepowtarget['class']=DataFrame(target)\n",
        "originalrepowtarget"
      ]
    },
    {
      "cell_type": "markdown",
      "metadata": {
        "id": "3rIKaW27VgIU"
      },
      "source": [
        "It is up to you to use the one you like the most!"
      ]
    }
  ],
  "metadata": {
    "hide_input": false,
    "kernelspec": {
      "display_name": "Python 3",
      "language": "python",
      "name": "python3"
    },
    "language_info": {
      "codemirror_mode": {
        "name": "ipython",
        "version": 3
      },
      "file_extension": ".py",
      "mimetype": "text/x-python",
      "name": "python",
      "nbconvert_exporter": "python",
      "pygments_lexer": "ipython3",
      "version": "3.7.3"
    },
    "varInspector": {
      "cols": {
        "lenName": 16,
        "lenType": 16,
        "lenVar": 40
      },
      "kernels_config": {
        "python": {
          "delete_cmd_postfix": "",
          "delete_cmd_prefix": "del ",
          "library": "var_list.py",
          "varRefreshCmd": "print(var_dic_list())"
        },
        "r": {
          "delete_cmd_postfix": ") ",
          "delete_cmd_prefix": "rm(",
          "library": "var_list.r",
          "varRefreshCmd": "cat(var_dic_list()) "
        }
      },
      "types_to_exclude": [
        "module",
        "function",
        "builtin_function_or_method",
        "instance",
        "_Feature"
      ],
      "window_display": false
    },
    "colab": {
      "provenance": [],
      "include_colab_link": true
    }
  },
  "nbformat": 4,
  "nbformat_minor": 0
}