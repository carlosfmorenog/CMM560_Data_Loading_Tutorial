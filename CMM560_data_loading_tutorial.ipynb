{
  "cells": [
    {
      "cell_type": "markdown",
      "metadata": {
        "id": "view-in-github",
        "colab_type": "text"
      },
      "source": [
        "<a href=\"https://colab.research.google.com/github/carlosfmorenog/CMM560_Data_Loading_Tutorial/blob/main/CMM560_data_loading_tutorial.ipynb\" target=\"_parent\"><img src=\"https://colab.research.google.com/assets/colab-badge.svg\" alt=\"Open In Colab\"/></a>"
      ]
    },
    {
      "cell_type": "markdown",
      "source": [
        "In this version, by simply running the following cell you get all the data you need!"
      ],
      "metadata": {
        "id": "fA6faA1aim0l"
      }
    },
    {
      "cell_type": "code",
      "source": [
        "!git clone https://github.com/carlosfmorenog/CMM560_Data_Loading_Tutorial"
      ],
      "metadata": {
        "id": "Yug32sBlVmn5"
      },
      "execution_count": null,
      "outputs": []
    },
    {
      "cell_type": "markdown",
      "metadata": {
        "id": "3Cu_nfHxVgIJ"
      },
      "source": [
        "# Version 1: Converting your image repository into numpy arrays"
      ]
    },
    {
      "cell_type": "code",
      "execution_count": null,
      "metadata": {
        "id": "iTKiSVy4VgIL"
      },
      "outputs": [],
      "source": [
        "import os\n",
        "import numpy as np\n",
        "import cv2\n",
        "resize_width = 100\n",
        "resize_height = 100\n",
        "path = '/content/CMM560_Data_Loading_Tutorial/data' # THIS IS APPLICABLE FOR EVERYONE! NO NEED TO CHANGE\n",
        "resized_images = [] # List to append the images as 2D numpy arrays.\n",
        "target = [] # List to append the target\n",
        "flattened_images = [] # list to append the flattened pixels\n",
        "\n",
        "for root, dirs, files in os.walk(path):\n",
        "     for file in files:\n",
        "        with open(os.path.join(root, file), \"r\") as auto:\n",
        "            try:\n",
        "                img = cv2.imread(root+'/'+file, 0)\n",
        "                img = cv2.resize(img, (resize_width, resize_height)) \n",
        "                # Append the resized image to a list\n",
        "                resized_images.append(img)\n",
        "                # Append the flattened image to a list\n",
        "                flattened_images.append(img.flatten())\n",
        "                # Append the folder where the image is to the target list\n",
        "                target.append(root.replace(path,'').replace('\\\\','').replace('/',''))\n",
        "            except Exception as e:\n",
        "                print(\"Invalid file \"+file+\" skipped.\")\n",
        "# Convert the list into numpy array\n",
        "flattened_images = np.array(flattened_images) \n",
        "print(flattened_images)\n",
        "print(flattened_images.shape)\n",
        "print(target)\n",
        "print(len(target))"
      ]
    },
    {
      "cell_type": "markdown",
      "metadata": {
        "id": "4us34AkWVgIP"
      },
      "source": [
        "# Version 2: Converting your image repository into Pandas data frames"
      ]
    },
    {
      "cell_type": "code",
      "execution_count": null,
      "metadata": {
        "id": "WaE14M1zVgIR"
      },
      "outputs": [],
      "source": [
        "import os\n",
        "import numpy as np\n",
        "import cv2\n",
        "from pandas import DataFrame\n",
        "\n",
        "resize_width = 25\n",
        "resize_height = 25\n",
        "path = '/content/CMM560_Data_Loading_Tutorial/data' # THIS IS APPLICABLE FOR EVERYONE! NO NEED TO CHANGE\n",
        "resized_images = [] # List to append the images as 2D numpy arrays.\n",
        "target = [] # List to append the target\n",
        "\n",
        "cont = 0\n",
        "for root, dirs, files in os.walk(path):\n",
        "     for file in files:\n",
        "        with open(os.path.join(root, file), \"r\") as auto:\n",
        "            try:\n",
        "                img = cv2.imread(root+'/'+file, 0)\n",
        "                img = cv2.resize(img, (resize_width, resize_height)) \n",
        "                # Append the resized image to a list\n",
        "                resized_images.append(img)\n",
        "                # Append the flattened image to the list\n",
        "                if cont == 0:\n",
        "                    flattened_images = img.flatten().copy()\n",
        "                    cont+=1\n",
        "                else:\n",
        "                    flattened_images = np.vstack((flattened_images,img.flatten()))\n",
        "                # Append the folder where the image is to the target list\n",
        "                target.append(root.replace(path,'').replace('\\\\','').replace('/',''))\n",
        "            except Exception as e:\n",
        "                print(\"Invalid file \"+file+\" skipped.\")\n",
        "# Convert the list into a pandas dataframe\n",
        "flattened_images_withtarget = DataFrame(flattened_images) \n",
        "flattened_images_withtarget = abs(flattened_images_withtarget)\n",
        "flattened_images_withtarget['class']=DataFrame(target)\n",
        "flattened_images_withtarget"
      ]
    },
    {
      "cell_type": "markdown",
      "metadata": {
        "id": "3rIKaW27VgIU"
      },
      "source": [
        "It is up to you to use the one you like the most!"
      ]
    }
  ],
  "metadata": {
    "hide_input": false,
    "kernelspec": {
      "display_name": "Python 3",
      "language": "python",
      "name": "python3"
    },
    "language_info": {
      "codemirror_mode": {
        "name": "ipython",
        "version": 3
      },
      "file_extension": ".py",
      "mimetype": "text/x-python",
      "name": "python",
      "nbconvert_exporter": "python",
      "pygments_lexer": "ipython3",
      "version": "3.7.3"
    },
    "varInspector": {
      "cols": {
        "lenName": 16,
        "lenType": 16,
        "lenVar": 40
      },
      "kernels_config": {
        "python": {
          "delete_cmd_postfix": "",
          "delete_cmd_prefix": "del ",
          "library": "var_list.py",
          "varRefreshCmd": "print(var_dic_list())"
        },
        "r": {
          "delete_cmd_postfix": ") ",
          "delete_cmd_prefix": "rm(",
          "library": "var_list.r",
          "varRefreshCmd": "cat(var_dic_list()) "
        }
      },
      "types_to_exclude": [
        "module",
        "function",
        "builtin_function_or_method",
        "instance",
        "_Feature"
      ],
      "window_display": false
    },
    "colab": {
      "provenance": [],
      "include_colab_link": true
    }
  },
  "nbformat": 4,
  "nbformat_minor": 0
}